{
 "cells": [
  {
   "cell_type": "markdown",
   "id": "b665bd85-5973-409e-a067-e7236d61a2b2",
   "metadata": {},
   "source": [
    "# Data Science Tools and Ecosystem"
   ]
  },
  {
   "cell_type": "markdown",
   "id": "57035e9c-b709-43a1-9dc0-3f178110ca94",
   "metadata": {
    "tags": []
   },
   "source": [
    "## Autor\n",
    "Liseth A. Villasmil Faría "
   ]
  },
  {
   "cell_type": "markdown",
   "id": "0e43d943-4405-44c3-b530-3db4f68eed92",
   "metadata": {},
   "source": [
    "### Introduction"
   ]
  },
  {
   "cell_type": "markdown",
   "id": "76c4f7a5-73d3-4cbc-bd74-a4ac213c6fe7",
   "metadata": {
    "tags": []
   },
   "source": [
    "In this exercise I will try to address the main applications or environments that are relevant for data analysis.\n"
   ]
  },
  {
   "cell_type": "markdown",
   "id": "4edc0c19-1d5b-41d7-92c7-4b9a70d4601b",
   "metadata": {},
   "source": [
    "### Goals:\n",
    "\n",
    "In this exercise book I outline part of what I learned in module 2 of the Data Scientist course:\n",
    "\n",
    "* Main languages in data science\n",
    "* Tools used in data science\n",
    "* Open Source Tools\n",
    "* Some arithmetic operations in Jupyter notebooks\n",
    "* Use of discount cells"
   ]
  },
  {
   "cell_type": "markdown",
   "id": "a9621a75-7e95-4a7b-9785-711d6da314db",
   "metadata": {},
   "source": [
    "### Some of the popular languages that Data Scientists use are: \n",
    "1. Python\n",
    "2. Julia\n",
    "3. R\n",
    "4. SQL\n",
    "5. C++"
   ]
  },
  {
   "cell_type": "markdown",
   "id": "064126fd-c347-4cd1-8a7f-4c8f26845bfd",
   "metadata": {},
   "source": [
    "### Some of the commonly used libraries used by Data Scientists include:\n",
    "1. Pandas\n",
    "2. Numpy\n",
    "3. Scikit-Learn\n",
    "4. Keras\n",
    "5. Pytorch"
   ]
  },
  {
   "cell_type": "markdown",
   "id": "bb86e4a2-0de7-422e-973c-ae60108cb390",
   "metadata": {},
   "source": [
    "### Data Science Tools"
   ]
  },
  {
   "cell_type": "markdown",
   "id": "c9672a1e-3a06-4d2c-82df-42e9e3b492d6",
   "metadata": {
    "tags": []
   },
   "source": [
    "| Data Sciencie Tools |  \n",
    "| --- |\n",
    "| MySQL\n",
    "| MongoDB\n",
    "| Apache Couch DB\n",
    "| KubeFlow"
   ]
  },
  {
   "cell_type": "markdown",
   "id": "40563298-1bf8-44f9-b052-e94b00bc82e8",
   "metadata": {},
   "source": [
    "###  Create a markdown cell introducing arithmetic expression examples"
   ]
  },
  {
   "cell_type": "markdown",
   "id": "a6d8cd95-08fa-4007-b847-cdfd55fe9b5e",
   "metadata": {
    "tags": []
   },
   "source": [
    "Below are a few examples of evaluating arithmetic expressions in Python"
   ]
  },
  {
   "cell_type": "markdown",
   "id": "e8a2c368-528d-4bba-b09c-fa4842cf55a7",
   "metadata": {
    "tags": []
   },
   "source": [
    "(3*8)"
   ]
  },
  {
   "cell_type": "markdown",
   "id": "1055b25b-4f50-4ecb-af79-3bd8fa595202",
   "metadata": {
    "tags": []
   },
   "source": [
    "(3-8)"
   ]
  },
  {
   "cell_type": "markdown",
   "id": "4e3634f7-3523-404f-b00e-f83561f9b90b",
   "metadata": {
    "tags": []
   },
   "source": [
    "(3*3)"
   ]
  },
  {
   "cell_type": "markdown",
   "id": "369ac722-11c7-406b-bfe2-2f12fb674995",
   "metadata": {
    "tags": []
   },
   "source": [
    "(3/3)"
   ]
  },
  {
   "cell_type": "markdown",
   "id": "2e1ef91b-b01f-4bba-a5a0-add912a2bc28",
   "metadata": {},
   "source": [
    "### Create a code cell to multiply and add numbers"
   ]
  },
  {
   "cell_type": "code",
   "execution_count": 30,
   "id": "8e3c9443-4483-4ba9-aeb8-e77c680d19a6",
   "metadata": {
    "tags": []
   },
   "outputs": [
    {
     "data": {
      "text/plain": [
       "17"
      ]
     },
     "execution_count": 30,
     "metadata": {},
     "output_type": "execute_result"
    }
   ],
   "source": [
    "(3*4)+5"
   ]
  },
  {
   "cell_type": "markdown",
   "id": "699de7fb-bbcf-4550-8de7-e0d4f59d19f3",
   "metadata": {},
   "source": [
    "In that expression there are two arithmetic expressions: multiplication and addition. In this sense, first multiply 3 x 4, which gives 12 and to the product of this, add the number that is outside the parentheses, that is, 5."
   ]
  },
  {
   "cell_type": "markdown",
   "id": "7e29af64-318f-445e-93b1-e40bb4355934",
   "metadata": {},
   "source": [
    "### Create a code cell to convert minutes to hours"
   ]
  },
  {
   "cell_type": "markdown",
   "id": "1b1c57f6-b80a-49bb-9428-1368af3752cf",
   "metadata": {
    "tags": []
   },
   "source": [
    "In this code cell write an expression that converts 200 minutes into hours"
   ]
  },
  {
   "cell_type": "code",
   "execution_count": 32,
   "id": "84412ae8-6e41-439c-a754-e59ab14dcbab",
   "metadata": {
    "tags": []
   },
   "outputs": [
    {
     "data": {
      "text/plain": [
       "3.3333333333333335"
      ]
     },
     "execution_count": 32,
     "metadata": {},
     "output_type": "execute_result"
    }
   ],
   "source": [
    "200/60"
   ]
  },
  {
   "cell_type": "markdown",
   "id": "fd61ceed-807e-4cf0-8b15-1a583daf5972",
   "metadata": {},
   "source": [
    "The minutes were divided by 60, since each hour is made up of 60 minutes. That equals 3,333..."
   ]
  },
  {
   "cell_type": "code",
   "execution_count": null,
   "id": "c6ac066d-7dbf-465a-b4d5-e4291830c965",
   "metadata": {},
   "outputs": [],
   "source": []
  }
 ],
 "metadata": {
  "kernelspec": {
   "display_name": "Python",
   "language": "python",
   "name": "conda-env-python-py"
  },
  "language_info": {
   "codemirror_mode": {
    "name": "ipython",
    "version": 3
   },
   "file_extension": ".py",
   "mimetype": "text/x-python",
   "name": "python",
   "nbconvert_exporter": "python",
   "pygments_lexer": "ipython3",
   "version": "3.7.12"
  }
 },
 "nbformat": 4,
 "nbformat_minor": 5
}
